{
 "cells": [
  {
   "cell_type": "code",
   "execution_count": 2,
   "metadata": {},
   "outputs": [
    {
     "name": "stdout",
     "output_type": "stream",
     "text": [
      "fl\n"
     ]
    }
   ],
   "source": [
    "strs = [\"flower\",\"flow\",\"flight\"]\n",
    "ln =100000000\n",
    "for element in strs: \n",
    "    if len(element) < ln:\n",
    "        ln = len(element)  \n",
    "finalRes = ''\n",
    "finshed = False\n",
    "for i in range (ln):\n",
    "    char = strs[0][i]\n",
    "    for element in strs:  \n",
    "        if char != element[i]:\n",
    "            finshed = True\n",
    "            break\n",
    "    if finshed:\n",
    "        break\n",
    "    finalRes+=char\n",
    "print(finalRes)"
   ]
  },
  {
   "cell_type": "code",
   "execution_count": 3,
   "metadata": {},
   "outputs": [
    {
     "name": "stdout",
     "output_type": "stream",
     "text": [
      "fl\n"
     ]
    }
   ],
   "source": [
    "# it could be solved using exsting function \n",
    "import os \n",
    "print(os.path.commonprefix(strs))"
   ]
  },
  {
   "cell_type": "code",
   "execution_count": null,
   "metadata": {},
   "outputs": [],
   "source": []
  }
 ],
 "metadata": {
  "kernelspec": {
   "display_name": "Python 3",
   "language": "python",
   "name": "python3"
  },
  "language_info": {
   "codemirror_mode": {
    "name": "ipython",
    "version": 3
   },
   "file_extension": ".py",
   "mimetype": "text/x-python",
   "name": "python",
   "nbconvert_exporter": "python",
   "pygments_lexer": "ipython3",
   "version": "3.9.13"
  },
  "orig_nbformat": 4
 },
 "nbformat": 4,
 "nbformat_minor": 2
}
