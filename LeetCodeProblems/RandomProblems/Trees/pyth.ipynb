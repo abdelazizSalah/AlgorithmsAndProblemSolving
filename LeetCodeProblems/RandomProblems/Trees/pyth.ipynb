{
 "cells": [
  {
   "cell_type": "code",
   "execution_count": 42,
   "metadata": {},
   "outputs": [],
   "source": [
    "import numpy as np\n",
    "\n",
    "y_val = np.array([1, 0, 0, 1, 1])\n",
    "p_val = np.array([True, False, 1, 1, 0])\n",
    "\n"
   ]
  },
  {
   "cell_type": "code",
   "execution_count": 43,
   "metadata": {},
   "outputs": [
    {
     "name": "stdout",
     "output_type": "stream",
     "text": [
      "3\n"
     ]
    }
   ],
   "source": [
    "# evaluating true positives \n",
    "\n",
    "indices = np.where(y_val == p_val)[0]\n",
    "tp = len(indices)\n",
    "print(tp)"
   ]
  },
  {
   "cell_type": "code",
   "execution_count": 44,
   "metadata": {},
   "outputs": [],
   "source": [
    "# evaluating false positive.\n",
    "# they are the elements which are = 1 in p but they are 0 in y\n",
    "fp = 0\n",
    "for i in range (len(p_val)) : \n",
    "    if(p_val[i] == 1 and y_val[i] == 0):\n",
    "        fp+= 1\n",
    "\n",
    "fp = len(np.where((y_val == 0) & (p_val == 1)))"
   ]
  },
  {
   "cell_type": "code",
   "execution_count": 45,
   "metadata": {},
   "outputs": [],
   "source": [
    "# evaluating the false negatives \n",
    "fn = len (np.where((y_val == 1) & (p_val == 0)))"
   ]
  },
  {
   "cell_type": "code",
   "execution_count": 46,
   "metadata": {},
   "outputs": [
    {
     "data": {
      "text/plain": [
       "(3, 1, 1)"
      ]
     },
     "execution_count": 46,
     "metadata": {},
     "output_type": "execute_result"
    }
   ],
   "source": [
    "tp, fp, fn"
   ]
  },
  {
   "cell_type": "code",
   "execution_count": 47,
   "metadata": {},
   "outputs": [],
   "source": [
    "prec = tp / (tp + fp)\n",
    "rec = tp / (tp + fn)\n",
    "F1 = (2 * prec * rec) / (prec + rec)"
   ]
  },
  {
   "cell_type": "code",
   "execution_count": 48,
   "metadata": {},
   "outputs": [],
   "source": [
    "predictions = p_val < 0.05\n",
    "tp = sum((y_val == predictions) & (predictions == 1))\n",
    "fp = sum((y_val == 0)&(predictions == 1))\n",
    "fn = sum((y_val == 1)&(predictions == 0))\n",
    "prec = tp / (tp + fp)\n",
    "rec = tp / (tp + fn)\n",
    "F1 = (2 * prec * rec) / (prec + rec)\n"
   ]
  },
  {
   "cell_type": "code",
   "execution_count": 49,
   "metadata": {},
   "outputs": [
    {
     "data": {
      "text/plain": [
       "(2, 1, 2)"
      ]
     },
     "execution_count": 49,
     "metadata": {},
     "output_type": "execute_result"
    }
   ],
   "source": [
    "tp, fp, fn"
   ]
  },
  {
   "cell_type": "code",
   "execution_count": null,
   "metadata": {},
   "outputs": [],
   "source": []
  }
 ],
 "metadata": {
  "kernelspec": {
   "display_name": "Python 3",
   "language": "python",
   "name": "python3"
  },
  "language_info": {
   "codemirror_mode": {
    "name": "ipython",
    "version": 3
   },
   "file_extension": ".py",
   "mimetype": "text/x-python",
   "name": "python",
   "nbconvert_exporter": "python",
   "pygments_lexer": "ipython3",
   "version": "3.9.13"
  },
  "orig_nbformat": 4
 },
 "nbformat": 4,
 "nbformat_minor": 2
}
