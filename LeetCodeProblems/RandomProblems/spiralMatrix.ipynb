{
 "cells": [
  {
   "cell_type": "code",
   "execution_count": 39,
   "metadata": {},
   "outputs": [
    {
     "name": "stdout",
     "output_type": "stream",
     "text": [
      "3 3\n"
     ]
    }
   ],
   "source": [
    "import numpy as np\n",
    "m, n = input('insert inputs: ').split(',')\n",
    "m = int(m)\n",
    "n = int(n)\n",
    "print(m, n)"
   ]
  },
  {
   "cell_type": "code",
   "execution_count": 40,
   "metadata": {},
   "outputs": [],
   "source": [
    "spiralMatrix = np.arange(m * n)\n",
    "spiralMatrix += 1"
   ]
  },
  {
   "cell_type": "code",
   "execution_count": 43,
   "metadata": {},
   "outputs": [],
   "source": [
    "spiralMatrix = spiralMatrix.reshape(m,n)"
   ]
  },
  {
   "cell_type": "code",
   "execution_count": 44,
   "metadata": {},
   "outputs": [],
   "source": [
    "#      d, u, l, r\n",
    "dirx = [0,0,-1,1]\n",
    "diry = [1, -1, 0,0]\n",
    "def traverse (i,j, m,n, mat, vis, resultList, dir)-> int: \n",
    "        if i >= m or j >= n or i < 0 or j < 0 or vis[i][j]:\n",
    "            dir = (dir + 1) % 4\n",
    "            return dir # change dir\n",
    "        # mark as visited and print it.\n",
    "        resultList.append(mat[i][j])\n",
    "        vis[i][j] = 1\n",
    "\n",
    "        # visit right\n",
    "        if dir ==0:\n",
    "            dir = traverse(i, j + 1, m, n, mat,vis,resultList,0)\n",
    "        if dir == 1:\n",
    "        # then down\n",
    "            dir = traverse(i + 1, j, m, n, mat,vis,resultList,1)\n",
    "        if dir == 2:\n",
    "        # then left\n",
    "            dir = traverse(i, j - 1, m, n, mat,vis,resultList,2)\n",
    "        if dir == 3:\n",
    "\n",
    "        # then up.\n",
    "            dir = traverse(i- 1, j , m, n, mat,vis,resultList,3)\n"
   ]
  },
  {
   "cell_type": "code",
   "execution_count": 45,
   "metadata": {},
   "outputs": [
    {
     "name": "stdout",
     "output_type": "stream",
     "text": [
      "[1, 2, 3, 6, 9, 8, 7, 4]\n"
     ]
    }
   ],
   "source": [
    "vis = np.zeros(m*n).reshape(m,n)\n",
    "result = []\n",
    "traverse(i=0,j=0,m=m,n=n,mat=spiralMatrix,vis= vis, resultList=result,dir =0)\n",
    "print(result)"
   ]
  },
  {
   "cell_type": "code",
   "execution_count": null,
   "metadata": {},
   "outputs": [],
   "source": []
  }
 ],
 "metadata": {
  "kernelspec": {
   "display_name": "Python 3",
   "language": "python",
   "name": "python3"
  },
  "language_info": {
   "codemirror_mode": {
    "name": "ipython",
    "version": 3
   },
   "file_extension": ".py",
   "mimetype": "text/x-python",
   "name": "python",
   "nbconvert_exporter": "python",
   "pygments_lexer": "ipython3",
   "version": "3.9.13"
  },
  "orig_nbformat": 4
 },
 "nbformat": 4,
 "nbformat_minor": 2
}
