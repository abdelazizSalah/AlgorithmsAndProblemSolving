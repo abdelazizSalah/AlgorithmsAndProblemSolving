{
 "cells": [
  {
   "cell_type": "code",
   "execution_count": 5,
   "metadata": {},
   "outputs": [
    {
     "name": "stderr",
     "output_type": "stream",
     "text": [
      "430.85s - Error inserting pydevd breaks.\n",
      "Traceback (most recent call last):\n",
      "  File \"C:\\Users\\20115\\AppData\\Local\\Packages\\PythonSoftwareFoundation.Python.3.9_qbz5n2kfra8p0\\LocalCache\\local-packages\\Python39\\site-packages\\debugpy\\_vendored\\pydevd\\_pydevd_frame_eval\\pydevd_modify_bytecode.py\", line 328, in insert_pydevd_breaks\n",
      "    for new_instruction in get_instructions_to_add(\n",
      "  File \"C:\\Users\\20115\\AppData\\Local\\Packages\\PythonSoftwareFoundation.Python.3.9_qbz5n2kfra8p0\\LocalCache\\local-packages\\Python39\\site-packages\\debugpy\\_vendored\\pydevd\\_pydevd_frame_eval\\pydevd_modify_bytecode.py\", line 102, in get_instructions_to_add\n",
      "    Instr(\"LOAD_CONST\", _pydev_stop_at_break, lineno=stop_at_line - 1),\n",
      "  File \"C:\\Users\\20115\\AppData\\Local\\Packages\\PythonSoftwareFoundation.Python.3.9_qbz5n2kfra8p0\\LocalCache\\local-packages\\Python39\\site-packages\\debugpy\\_vendored\\pydevd\\_pydevd_frame_eval\\vendored\\bytecode\\instr.py\", line 171, in __init__\n",
      "    self._set(name, arg, lineno)\n",
      "  File \"C:\\Users\\20115\\AppData\\Local\\Packages\\PythonSoftwareFoundation.Python.3.9_qbz5n2kfra8p0\\LocalCache\\local-packages\\Python39\\site-packages\\debugpy\\_vendored\\pydevd\\_pydevd_frame_eval\\vendored\\bytecode\\instr.py\", line 239, in _set\n",
      "    _check_lineno(lineno)\n",
      "  File \"C:\\Users\\20115\\AppData\\Local\\Packages\\PythonSoftwareFoundation.Python.3.9_qbz5n2kfra8p0\\LocalCache\\local-packages\\Python39\\site-packages\\debugpy\\_vendored\\pydevd\\_pydevd_frame_eval\\vendored\\bytecode\\instr.py\", line 74, in _check_lineno\n",
      "    raise ValueError(\"invalid lineno\")\n",
      "ValueError: invalid lineno\n"
     ]
    },
    {
     "name": "stdout",
     "output_type": "stream",
     "text": [
      "10101\n"
     ]
    }
   ],
   "source": [
    "a= input('a: ')\n",
    "b= input('b: ')\n",
    "a = a[::-1]\n",
    "b = b[::-1]\n",
    "minLen = min(len(a), len(b))\n",
    "carry = 0\n",
    "res = ''\n",
    "for i in range (minLen):\n",
    "    if a[i] == b[i]:\n",
    "        res += '1' if carry == 1 else '0'\n",
    "        carry = 1 if a[i] == '1' else 0 \n",
    "    else: \n",
    "        res += '1' if carry == 0 else '0'\n",
    "        carry = 0 \n",
    "    \n",
    "if len(a) == minLen:\n",
    "    for i in range(minLen, len(b)):\n",
    "        if carry and b[i] == '1':\n",
    "            carry = 1\n",
    "            res += '0'\n",
    "        else:\n",
    "            carry = 0\n",
    "            res += b[i]\n",
    "else:\n",
    "    for i in range(minLen, len(a)):\n",
    "        if carry and a[i] == '1':\n",
    "            carry = 1\n",
    "            res += '0'\n",
    "        else:\n",
    "            carry = 0\n",
    "            res += a[i]\n",
    "\n",
    "if carry:\n",
    "    res += '1'\n",
    "print(res[::-1])\n",
    "print(res[::-1])\n",
    "            "
   ]
  },
  {
   "cell_type": "code",
   "execution_count": null,
   "metadata": {},
   "outputs": [],
   "source": []
  },
  {
   "cell_type": "code",
   "execution_count": null,
   "metadata": {},
   "outputs": [],
   "source": []
  }
 ],
 "metadata": {
  "kernelspec": {
   "display_name": "Python 3",
   "language": "python",
   "name": "python3"
  },
  "language_info": {
   "codemirror_mode": {
    "name": "ipython",
    "version": 3
   },
   "file_extension": ".py",
   "mimetype": "text/x-python",
   "name": "python",
   "nbconvert_exporter": "python",
   "pygments_lexer": "ipython3",
   "version": "3.9.13"
  },
  "orig_nbformat": 4
 },
 "nbformat": 4,
 "nbformat_minor": 2
}
