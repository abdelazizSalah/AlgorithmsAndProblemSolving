{
 "cells": [
  {
   "cell_type": "code",
   "execution_count": 5,
   "metadata": {},
   "outputs": [
    {
     "name": "stderr",
     "output_type": "stream",
     "text": [
      "430.85s - Error inserting pydevd breaks.\n",
      "Traceback (most recent call last):\n",
      "  File \"C:\\Users\\20115\\AppData\\Local\\Packages\\PythonSoftwareFoundation.Python.3.9_qbz5n2kfra8p0\\LocalCache\\local-packages\\Python39\\site-packages\\debugpy\\_vendored\\pydevd\\_pydevd_frame_eval\\pydevd_modify_bytecode.py\", line 328, in insert_pydevd_breaks\n",
      "    for new_instruction in get_instructions_to_add(\n",
      "  File \"C:\\Users\\20115\\AppData\\Local\\Packages\\PythonSoftwareFoundation.Python.3.9_qbz5n2kfra8p0\\LocalCache\\local-packages\\Python39\\site-packages\\debugpy\\_vendored\\pydevd\\_pydevd_frame_eval\\pydevd_modify_bytecode.py\", line 102, in get_instructions_to_add\n",
      "    Instr(\"LOAD_CONST\", _pydev_stop_at_break, lineno=stop_at_line - 1),\n",
      "  File \"C:\\Users\\20115\\AppData\\Local\\Packages\\PythonSoftwareFoundation.Python.3.9_qbz5n2kfra8p0\\LocalCache\\local-packages\\Python39\\site-packages\\debugpy\\_vendored\\pydevd\\_pydevd_frame_eval\\vendored\\bytecode\\instr.py\", line 171, in __init__\n",
      "    self._set(name, arg, lineno)\n",
      "  File \"C:\\Users\\20115\\AppData\\Local\\Packages\\PythonSoftwareFoundation.Python.3.9_qbz5n2kfra8p0\\LocalCache\\local-packages\\Python39\\site-packages\\debugpy\\_vendored\\pydevd\\_pydevd_frame_eval\\vendored\\bytecode\\instr.py\", line 239, in _set\n",
      "    _check_lineno(lineno)\n",
      "  File \"C:\\Users\\20115\\AppData\\Local\\Packages\\PythonSoftwareFoundation.Python.3.9_qbz5n2kfra8p0\\LocalCache\\local-packages\\Python39\\site-packages\\debugpy\\_vendored\\pydevd\\_pydevd_frame_eval\\vendored\\bytecode\\instr.py\", line 74, in _check_lineno\n",
      "    raise ValueError(\"invalid lineno\")\n",
      "ValueError: invalid lineno\n"
     ]
    },
    {
     "name": "stdout",
     "output_type": "stream",
     "text": [
      "10101\n"
     ]
    }
   ],
   "source": [
    "a= input('a: ')\n",
    "b= input('b: ')\n",
    "a = a[::-1]\n",
    "b = b[::-1]\n",
    "minLen = min(len(a), len(b))\n",
    "carry = 0\n",
    "res = ''\n",
    "for i in range (minLen):\n",
    "    if a[i] == b[i]:\n",
    "        res += '1' if carry == 1 else '0'\n",
    "        carry = 1 if a[i] == '1' else 0 \n",
    "    else: \n",
    "        res += '1' if carry == 0 else '0'\n",
    "        carry = 0 \n",
    "    \n",
    "if len(a) == minLen:\n",
    "    for i in range(minLen, len(b)):\n",
    "        if carry and b[i] == '1':\n",
    "            carry = 1\n",
    "            res += '0'\n",
    "        else:\n",
    "            carry = 0\n",
    "            res += b[i]\n",
    "else:\n",
    "    for i in range(minLen, len(a)):\n",
    "        if carry and a[i] == '1':\n",
    "            carry = 1\n",
    "            res += '0'\n",
    "        else:\n",
    "            carry = 0\n",
    "            res += a[i]\n",
    "\n",
    "if carry:\n",
    "    res += '1'\n",
    "print(res[::-1])\n",
    "print(res[::-1])\n",
    "            "
   ]
  },
  {
   "cell_type": "code",
   "execution_count": 25,
   "metadata": {},
   "outputs": [
    {
     "name": "stdout",
     "output_type": "stream",
     "text": [
      "100010\n"
     ]
    }
   ],
   "source": [
    "# read the input \n",
    "# a = input('insert a: ')\n",
    "# b = input ('insert b: ')\n",
    "a = '100001'\n",
    "b = '01'\n",
    "maxLen, minLen = max(len(a), len(b)), min(len(a), len(b))\n",
    "res = ['' for i in range(maxLen + 1)]\n",
    "carry = 0\n",
    "a = a[::-1]\n",
    "b = b[::-1]\n",
    "# deebo's loop:\n",
    "for i in range(maxLen):\n",
    "    if i < minLen:\n",
    "        intA = int(a[i])\n",
    "        intB = int(b[i])\n",
    "        res[i] = str((intA + intB + carry) %2)\n",
    "        carry =  (intA + intB + carry) > 1\n",
    "    else:\n",
    "        if minLen == len(a):\n",
    "            intB = int(b[i])\n",
    "            res[i] = str((intB + carry) %2)\n",
    "            carry =  (intB + carry) > 1\n",
    "        else:\n",
    "            intA = int(a[i])\n",
    "            res[i] = str((intA + carry) %2)\n",
    "            carry =  (intA + carry) > 1\n",
    "res[maxLen] ='0' if carry == 0 else '1'\n",
    "returnRes = ''\n",
    "\n",
    "for i in range(maxLen+(res[maxLen] == '1')):\n",
    "    returnRes += res[i]\n",
    "print(returnRes[::-1])"
   ]
  },
  {
   "cell_type": "code",
   "execution_count": null,
   "metadata": {},
   "outputs": [],
   "source": []
  }
 ],
 "metadata": {
  "kernelspec": {
   "display_name": "Python 3",
   "language": "python",
   "name": "python3"
  },
  "language_info": {
   "codemirror_mode": {
    "name": "ipython",
    "version": 3
   },
   "file_extension": ".py",
   "mimetype": "text/x-python",
   "name": "python",
   "nbconvert_exporter": "python",
   "pygments_lexer": "ipython3",
   "version": "3.9.13"
  },
  "orig_nbformat": 4
 },
 "nbformat": 4,
 "nbformat_minor": 2
}
