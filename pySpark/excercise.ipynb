{
 "cells": [
  {
   "cell_type": "code",
   "execution_count": 1,
   "metadata": {},
   "outputs": [],
   "source": [
    "# import the libraries \n",
    "from pyspark import SparkContext "
   ]
  },
  {
   "cell_type": "code",
   "execution_count": 2,
   "metadata": {},
   "outputs": [],
   "source": [
    "# creating the session\n",
    "session = SparkContext('local', 'excercise1')"
   ]
  },
  {
   "cell_type": "code",
   "execution_count": 3,
   "metadata": {},
   "outputs": [],
   "source": [
    "# Create an RDD with employee data\n",
    "employee_data_rdd = session.parallelize([\n",
    "(1, \"John Doe\", 50000,\"HR\"),\n",
    "(2, \"Jane Smith\", 60000, \"HR\"),\n",
    "(3, \"Michael Johnson\", 75000, \"Dev\"),\n",
    "(4, \"Emily Brown\", 70000, \"Dev\"),\n",
    "(5, \"David Lee\", 80000, \"Test\")])\n"
   ]
  },
  {
   "cell_type": "markdown",
   "metadata": {},
   "source": [
    "### Find the sum of salaries of employees "
   ]
  },
  {
   "cell_type": "code",
   "execution_count": 22,
   "metadata": {},
   "outputs": [
    {
     "name": "stdout",
     "output_type": "stream",
     "text": [
      "335000\n"
     ]
    }
   ],
   "source": [
    "# we can use the reduce method\n",
    "def sum_salaries(sal1, sal2): \n",
    "    return sal1 + sal2\n",
    "\n",
    "# we have to extract the salaries first\n",
    "salaries = employee_data_rdd.map(lambda emp: emp[2])\n",
    "\n",
    "# now we can apply the reduce \n",
    "sum = salaries.reduce(sum_salaries)\n",
    "\n",
    "# print the result \n",
    "print(sum)"
   ]
  },
  {
   "cell_type": "markdown",
   "metadata": {},
   "source": [
    "### Find the sum of salaries of employees per each department"
   ]
  },
  {
   "cell_type": "code",
   "execution_count": 25,
   "metadata": {},
   "outputs": [
    {
     "data": {
      "text/plain": [
       "[('HR', 110000), ('Dev', 145000), ('Test', 80000)]"
      ]
     },
     "execution_count": 25,
     "metadata": {},
     "output_type": "execute_result"
    }
   ],
   "source": [
    "# create a list of pairs where the key is the department, and the value is the salary using the map method \n",
    "def get_dep_and_salary(emp): \n",
    "    return (emp[3], emp[2]) \n",
    "\n",
    "list_pairs = employee_data_rdd.map(get_dep_and_salary)\n",
    "list_pairs.collect() \n",
    "\n",
    "# now apply reduce of the map reduce, to get the sum \n",
    "result = list_pairs.reduceByKey(lambda x,y: x + y)\n",
    "result.collect() "
   ]
  },
  {
   "cell_type": "code",
   "execution_count": null,
   "metadata": {},
   "outputs": [],
   "source": []
  }
 ],
 "metadata": {
  "kernelspec": {
   "display_name": "Python 3",
   "language": "python",
   "name": "python3"
  },
  "language_info": {
   "codemirror_mode": {
    "name": "ipython",
    "version": 3
   },
   "file_extension": ".py",
   "mimetype": "text/x-python",
   "name": "python",
   "nbconvert_exporter": "python",
   "pygments_lexer": "ipython3",
   "version": "3.9.13"
  }
 },
 "nbformat": 4,
 "nbformat_minor": 2
}
